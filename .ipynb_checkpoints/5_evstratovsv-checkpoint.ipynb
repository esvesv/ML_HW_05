{
 "cells": [
  {
   "cell_type": "markdown",
   "id": "8de70518",
   "metadata": {},
   "source": [
    "## УСЛОВИЕ:\n",
    "Скачиваем и работаем с данными train.csv.\n",
    "\n",
    "Необходимо произвести предобработку данных, обучить решающие деревья с различными параметрами, оценить модели с помощью рассмотренных метрик, объяснить выбор определенной метрики и аргументировать выбор настроек алгоритма (подбор гиперпараметров)."
   ]
  },
  {
   "cell_type": "markdown",
   "id": "6a62bdeb",
   "metadata": {},
   "source": [
    "* **PassengerId** - A unique Id for each passenger. Each Id takes the form gggg_pp where gggg indicates a group the passenger is travelling with and pp is their number within the group. People in a group are often family members, but not always. (Уникальный идентификатор для каждого пассажира. Каждый идентификатор принимает форму gggg_pp, где gggg указывает группу, с которой путешествует пассажир, а pp — его номер в группе. Люди в группе часто являются членами семьи, но не всегда.)\n",
    "* **HomePlanet** - The planet the passenger departed from, typically their planet of permanent residence. (Планета, с которой вылетел пассажир, как правило, планета их постоянного проживания.)\n",
    "* **CryoSleep** - Indicates whether the passenger elected to be put into suspended animation for the duration of the voyage. Passengers in cryosleep are confined to their cabins. (Указывает, решил ли пассажир быть переведен в режим анабиоза на время рейса. Пассажиры, находящиеся в криосонном состоянии, находятся в своих каютах.)\n",
    "* **Cabin** - The cabin number where the passenger is staying. Takes the form deck/num/side, where side can be either P for Port or S for Starboard. (Номер каюты, в которой находится пассажир. Принимает форму палуба/число/сторона, где сторона может быть либо P для левого борта, либо S для правого борта.)\n",
    "* **Destination** - The planet the passenger will be debarking to. (Планета, на которую будет высаживаться пассажир.)\n",
    "* **Age** - The age of the passenger. (Возраст пассажира.)\n",
    "* **VIP** - Whether the passenger has paid for special VIP service during the voyage. (Оплатил ли пассажир специальное VIP-обслуживание во время рейса.)\n",
    "* **RoomService, FoodCourt, ShoppingMall, Spa, VRDeck** - Amount the passenger has billed at each of the Spaceship Titanic's many luxury amenities. (Сумма, которую пассажир выставил в счет за каждое из многочисленных роскошных удобств космического корабля «Титаник».)\n",
    "* **Name** - The first and last names of the passenger. (Имя и фамилия пассажира.)\n",
    "* **Transported** - Whether the passenger was transported to another dimension. This is the target, the column you are trying to predict. (Перенесся ли пассажир в другое измерение. Это цель, столбец, который вы пытаетесь предсказать.)"
   ]
  },
  {
   "cell_type": "code",
   "execution_count": 266,
   "id": "6384099a",
   "metadata": {},
   "outputs": [],
   "source": [
    "import numpy as np\n",
    "import pandas as pd\n",
    "import scipy.stats\n",
    "import warnings\n",
    "import graphviz\n",
    "from tqdm import tqdm_notebook\n",
    "\n",
    "from matplotlib.colors import ListedColormap\n",
    "import matplotlib.pyplot as plt\n",
    "import seaborn as sns\n",
    "\n",
    "from sklearn import datasets\n",
    "from sklearn.metrics import accuracy_score, mean_squared_error\n",
    "from sklearn.tree import DecisionTreeClassifier, DecisionTreeRegressor, export_graphviz, plot_tree\n",
    "from sklearn.ensemble import RandomForestClassifier, RandomForestRegressor\n",
    "from sklearn.model_selection import train_test_split, KFold\n",
    "\n",
    "sns.set(font_scale=1.5)\n",
    "warnings.filterwarnings(\"ignore\")"
   ]
  },
  {
   "cell_type": "code",
   "execution_count": 267,
   "id": "8d19d1aa",
   "metadata": {},
   "outputs": [
    {
     "data": {
      "text/html": [
       "<div>\n",
       "<style scoped>\n",
       "    .dataframe tbody tr th:only-of-type {\n",
       "        vertical-align: middle;\n",
       "    }\n",
       "\n",
       "    .dataframe tbody tr th {\n",
       "        vertical-align: top;\n",
       "    }\n",
       "\n",
       "    .dataframe thead th {\n",
       "        text-align: right;\n",
       "    }\n",
       "</style>\n",
       "<table border=\"1\" class=\"dataframe\">\n",
       "  <thead>\n",
       "    <tr style=\"text-align: right;\">\n",
       "      <th></th>\n",
       "      <th>PassengerId</th>\n",
       "      <th>HomePlanet</th>\n",
       "      <th>CryoSleep</th>\n",
       "      <th>Cabin</th>\n",
       "      <th>Destination</th>\n",
       "      <th>Age</th>\n",
       "      <th>VIP</th>\n",
       "      <th>RoomService</th>\n",
       "      <th>FoodCourt</th>\n",
       "      <th>ShoppingMall</th>\n",
       "      <th>Spa</th>\n",
       "      <th>VRDeck</th>\n",
       "      <th>Name</th>\n",
       "      <th>Transported</th>\n",
       "    </tr>\n",
       "  </thead>\n",
       "  <tbody>\n",
       "    <tr>\n",
       "      <th>0</th>\n",
       "      <td>0001_01</td>\n",
       "      <td>Europa</td>\n",
       "      <td>False</td>\n",
       "      <td>B/0/P</td>\n",
       "      <td>TRAPPIST-1e</td>\n",
       "      <td>39.0</td>\n",
       "      <td>False</td>\n",
       "      <td>0.0</td>\n",
       "      <td>0.0</td>\n",
       "      <td>0.0</td>\n",
       "      <td>0.0</td>\n",
       "      <td>0.0</td>\n",
       "      <td>Maham Ofracculy</td>\n",
       "      <td>False</td>\n",
       "    </tr>\n",
       "    <tr>\n",
       "      <th>1</th>\n",
       "      <td>0002_01</td>\n",
       "      <td>Earth</td>\n",
       "      <td>False</td>\n",
       "      <td>F/0/S</td>\n",
       "      <td>TRAPPIST-1e</td>\n",
       "      <td>24.0</td>\n",
       "      <td>False</td>\n",
       "      <td>109.0</td>\n",
       "      <td>9.0</td>\n",
       "      <td>25.0</td>\n",
       "      <td>549.0</td>\n",
       "      <td>44.0</td>\n",
       "      <td>Juanna Vines</td>\n",
       "      <td>True</td>\n",
       "    </tr>\n",
       "    <tr>\n",
       "      <th>2</th>\n",
       "      <td>0003_01</td>\n",
       "      <td>Europa</td>\n",
       "      <td>False</td>\n",
       "      <td>A/0/S</td>\n",
       "      <td>TRAPPIST-1e</td>\n",
       "      <td>58.0</td>\n",
       "      <td>True</td>\n",
       "      <td>43.0</td>\n",
       "      <td>3576.0</td>\n",
       "      <td>0.0</td>\n",
       "      <td>6715.0</td>\n",
       "      <td>49.0</td>\n",
       "      <td>Altark Susent</td>\n",
       "      <td>False</td>\n",
       "    </tr>\n",
       "    <tr>\n",
       "      <th>3</th>\n",
       "      <td>0003_02</td>\n",
       "      <td>Europa</td>\n",
       "      <td>False</td>\n",
       "      <td>A/0/S</td>\n",
       "      <td>TRAPPIST-1e</td>\n",
       "      <td>33.0</td>\n",
       "      <td>False</td>\n",
       "      <td>0.0</td>\n",
       "      <td>1283.0</td>\n",
       "      <td>371.0</td>\n",
       "      <td>3329.0</td>\n",
       "      <td>193.0</td>\n",
       "      <td>Solam Susent</td>\n",
       "      <td>False</td>\n",
       "    </tr>\n",
       "    <tr>\n",
       "      <th>4</th>\n",
       "      <td>0004_01</td>\n",
       "      <td>Earth</td>\n",
       "      <td>False</td>\n",
       "      <td>F/1/S</td>\n",
       "      <td>TRAPPIST-1e</td>\n",
       "      <td>16.0</td>\n",
       "      <td>False</td>\n",
       "      <td>303.0</td>\n",
       "      <td>70.0</td>\n",
       "      <td>151.0</td>\n",
       "      <td>565.0</td>\n",
       "      <td>2.0</td>\n",
       "      <td>Willy Santantines</td>\n",
       "      <td>True</td>\n",
       "    </tr>\n",
       "  </tbody>\n",
       "</table>\n",
       "</div>"
      ],
      "text/plain": [
       "  PassengerId HomePlanet CryoSleep  Cabin  Destination   Age    VIP  \\\n",
       "0     0001_01     Europa     False  B/0/P  TRAPPIST-1e  39.0  False   \n",
       "1     0002_01      Earth     False  F/0/S  TRAPPIST-1e  24.0  False   \n",
       "2     0003_01     Europa     False  A/0/S  TRAPPIST-1e  58.0   True   \n",
       "3     0003_02     Europa     False  A/0/S  TRAPPIST-1e  33.0  False   \n",
       "4     0004_01      Earth     False  F/1/S  TRAPPIST-1e  16.0  False   \n",
       "\n",
       "   RoomService  FoodCourt  ShoppingMall     Spa  VRDeck               Name  \\\n",
       "0          0.0        0.0           0.0     0.0     0.0    Maham Ofracculy   \n",
       "1        109.0        9.0          25.0   549.0    44.0       Juanna Vines   \n",
       "2         43.0     3576.0           0.0  6715.0    49.0      Altark Susent   \n",
       "3          0.0     1283.0         371.0  3329.0   193.0       Solam Susent   \n",
       "4        303.0       70.0         151.0   565.0     2.0  Willy Santantines   \n",
       "\n",
       "   Transported  \n",
       "0        False  \n",
       "1         True  \n",
       "2        False  \n",
       "3        False  \n",
       "4         True  "
      ]
     },
     "execution_count": 267,
     "metadata": {},
     "output_type": "execute_result"
    }
   ],
   "source": [
    "df = pd.read_csv('train.csv')\n",
    "df.head()"
   ]
  },
  {
   "cell_type": "code",
   "execution_count": 268,
   "id": "fe0a701b",
   "metadata": {},
   "outputs": [
    {
     "data": {
      "text/html": [
       "<div>\n",
       "<style scoped>\n",
       "    .dataframe tbody tr th:only-of-type {\n",
       "        vertical-align: middle;\n",
       "    }\n",
       "\n",
       "    .dataframe tbody tr th {\n",
       "        vertical-align: top;\n",
       "    }\n",
       "\n",
       "    .dataframe thead th {\n",
       "        text-align: right;\n",
       "    }\n",
       "</style>\n",
       "<table border=\"1\" class=\"dataframe\">\n",
       "  <thead>\n",
       "    <tr style=\"text-align: right;\">\n",
       "      <th></th>\n",
       "      <th>PassengerId</th>\n",
       "      <th>HomePlanet</th>\n",
       "      <th>CryoSleep</th>\n",
       "      <th>Cabin</th>\n",
       "      <th>Destination</th>\n",
       "      <th>Age</th>\n",
       "      <th>VIP</th>\n",
       "      <th>RoomService</th>\n",
       "      <th>FoodCourt</th>\n",
       "      <th>ShoppingMall</th>\n",
       "      <th>Spa</th>\n",
       "      <th>VRDeck</th>\n",
       "      <th>Name</th>\n",
       "      <th>Transported</th>\n",
       "    </tr>\n",
       "  </thead>\n",
       "  <tbody>\n",
       "    <tr>\n",
       "      <th>8688</th>\n",
       "      <td>9276_01</td>\n",
       "      <td>Europa</td>\n",
       "      <td>False</td>\n",
       "      <td>A/98/P</td>\n",
       "      <td>55 Cancri e</td>\n",
       "      <td>41.0</td>\n",
       "      <td>True</td>\n",
       "      <td>0.0</td>\n",
       "      <td>6819.0</td>\n",
       "      <td>0.0</td>\n",
       "      <td>1643.0</td>\n",
       "      <td>74.0</td>\n",
       "      <td>Gravior Noxnuther</td>\n",
       "      <td>False</td>\n",
       "    </tr>\n",
       "    <tr>\n",
       "      <th>8689</th>\n",
       "      <td>9278_01</td>\n",
       "      <td>Earth</td>\n",
       "      <td>True</td>\n",
       "      <td>G/1499/S</td>\n",
       "      <td>PSO J318.5-22</td>\n",
       "      <td>18.0</td>\n",
       "      <td>False</td>\n",
       "      <td>0.0</td>\n",
       "      <td>0.0</td>\n",
       "      <td>0.0</td>\n",
       "      <td>0.0</td>\n",
       "      <td>0.0</td>\n",
       "      <td>Kurta Mondalley</td>\n",
       "      <td>False</td>\n",
       "    </tr>\n",
       "    <tr>\n",
       "      <th>8690</th>\n",
       "      <td>9279_01</td>\n",
       "      <td>Earth</td>\n",
       "      <td>False</td>\n",
       "      <td>G/1500/S</td>\n",
       "      <td>TRAPPIST-1e</td>\n",
       "      <td>26.0</td>\n",
       "      <td>False</td>\n",
       "      <td>0.0</td>\n",
       "      <td>0.0</td>\n",
       "      <td>1872.0</td>\n",
       "      <td>1.0</td>\n",
       "      <td>0.0</td>\n",
       "      <td>Fayey Connon</td>\n",
       "      <td>True</td>\n",
       "    </tr>\n",
       "    <tr>\n",
       "      <th>8691</th>\n",
       "      <td>9280_01</td>\n",
       "      <td>Europa</td>\n",
       "      <td>False</td>\n",
       "      <td>E/608/S</td>\n",
       "      <td>55 Cancri e</td>\n",
       "      <td>32.0</td>\n",
       "      <td>False</td>\n",
       "      <td>0.0</td>\n",
       "      <td>1049.0</td>\n",
       "      <td>0.0</td>\n",
       "      <td>353.0</td>\n",
       "      <td>3235.0</td>\n",
       "      <td>Celeon Hontichre</td>\n",
       "      <td>False</td>\n",
       "    </tr>\n",
       "    <tr>\n",
       "      <th>8692</th>\n",
       "      <td>9280_02</td>\n",
       "      <td>Europa</td>\n",
       "      <td>False</td>\n",
       "      <td>E/608/S</td>\n",
       "      <td>TRAPPIST-1e</td>\n",
       "      <td>44.0</td>\n",
       "      <td>False</td>\n",
       "      <td>126.0</td>\n",
       "      <td>4688.0</td>\n",
       "      <td>0.0</td>\n",
       "      <td>0.0</td>\n",
       "      <td>12.0</td>\n",
       "      <td>Propsh Hontichre</td>\n",
       "      <td>True</td>\n",
       "    </tr>\n",
       "  </tbody>\n",
       "</table>\n",
       "</div>"
      ],
      "text/plain": [
       "     PassengerId HomePlanet CryoSleep     Cabin    Destination   Age    VIP  \\\n",
       "8688     9276_01     Europa     False    A/98/P    55 Cancri e  41.0   True   \n",
       "8689     9278_01      Earth      True  G/1499/S  PSO J318.5-22  18.0  False   \n",
       "8690     9279_01      Earth     False  G/1500/S    TRAPPIST-1e  26.0  False   \n",
       "8691     9280_01     Europa     False   E/608/S    55 Cancri e  32.0  False   \n",
       "8692     9280_02     Europa     False   E/608/S    TRAPPIST-1e  44.0  False   \n",
       "\n",
       "      RoomService  FoodCourt  ShoppingMall     Spa  VRDeck               Name  \\\n",
       "8688          0.0     6819.0           0.0  1643.0    74.0  Gravior Noxnuther   \n",
       "8689          0.0        0.0           0.0     0.0     0.0    Kurta Mondalley   \n",
       "8690          0.0        0.0        1872.0     1.0     0.0       Fayey Connon   \n",
       "8691          0.0     1049.0           0.0   353.0  3235.0   Celeon Hontichre   \n",
       "8692        126.0     4688.0           0.0     0.0    12.0   Propsh Hontichre   \n",
       "\n",
       "      Transported  \n",
       "8688        False  \n",
       "8689        False  \n",
       "8690         True  \n",
       "8691        False  \n",
       "8692         True  "
      ]
     },
     "execution_count": 268,
     "metadata": {},
     "output_type": "execute_result"
    }
   ],
   "source": [
    "df.tail()"
   ]
  },
  {
   "cell_type": "code",
   "execution_count": 269,
   "id": "50fba5f9",
   "metadata": {},
   "outputs": [
    {
     "name": "stdout",
     "output_type": "stream",
     "text": [
      "<class 'pandas.core.frame.DataFrame'>\n",
      "RangeIndex: 8693 entries, 0 to 8692\n",
      "Data columns (total 14 columns):\n",
      " #   Column        Non-Null Count  Dtype  \n",
      "---  ------        --------------  -----  \n",
      " 0   PassengerId   8693 non-null   object \n",
      " 1   HomePlanet    8492 non-null   object \n",
      " 2   CryoSleep     8476 non-null   object \n",
      " 3   Cabin         8494 non-null   object \n",
      " 4   Destination   8511 non-null   object \n",
      " 5   Age           8514 non-null   float64\n",
      " 6   VIP           8490 non-null   object \n",
      " 7   RoomService   8512 non-null   float64\n",
      " 8   FoodCourt     8510 non-null   float64\n",
      " 9   ShoppingMall  8485 non-null   float64\n",
      " 10  Spa           8510 non-null   float64\n",
      " 11  VRDeck        8505 non-null   float64\n",
      " 12  Name          8493 non-null   object \n",
      " 13  Transported   8693 non-null   bool   \n",
      "dtypes: bool(1), float64(6), object(7)\n",
      "memory usage: 891.5+ KB\n"
     ]
    }
   ],
   "source": [
    "df.info()"
   ]
  },
  {
   "cell_type": "markdown",
   "id": "8cb0c799",
   "metadata": {},
   "source": [
    "Проверим данные на наличие дубликатов"
   ]
  },
  {
   "cell_type": "code",
   "execution_count": 270,
   "id": "47b6e5a9",
   "metadata": {},
   "outputs": [
    {
     "data": {
      "text/plain": [
       "0"
      ]
     },
     "execution_count": 270,
     "metadata": {},
     "output_type": "execute_result"
    }
   ],
   "source": [
    "df.iloc[:, :-1].duplicated().sum()"
   ]
  },
  {
   "cell_type": "markdown",
   "id": "f2afe727",
   "metadata": {},
   "source": [
    "Ни один из признаков не имеет более 2.5% пропусков"
   ]
  },
  {
   "cell_type": "code",
   "execution_count": 271,
   "id": "a87ed1c6",
   "metadata": {
    "scrolled": true
   },
   "outputs": [
    {
     "data": {
      "text/plain": [
       "CryoSleep       2.50\n",
       "ShoppingMall    2.39\n",
       "VIP             2.34\n",
       "HomePlanet      2.31\n",
       "Name            2.30\n",
       "Cabin           2.29\n",
       "VRDeck          2.16\n",
       "FoodCourt       2.11\n",
       "Spa             2.11\n",
       "Destination     2.09\n",
       "RoomService     2.08\n",
       "Age             2.06\n",
       "PassengerId     0.00\n",
       "Transported     0.00\n",
       "dtype: float64"
      ]
     },
     "execution_count": 271,
     "metadata": {},
     "output_type": "execute_result"
    }
   ],
   "source": [
    "round(df.isna().mean() * 100, 2).sort_values(ascending=False)"
   ]
  },
  {
   "cell_type": "markdown",
   "id": "21517d7e",
   "metadata": {},
   "source": [
    "Удалим строки с пропусками"
   ]
  },
  {
   "cell_type": "code",
   "execution_count": 272,
   "id": "002ca520",
   "metadata": {},
   "outputs": [],
   "source": [
    "df.dropna(axis=0, inplace=True)"
   ]
  },
  {
   "cell_type": "code",
   "execution_count": 273,
   "id": "64cb5157",
   "metadata": {
    "scrolled": true
   },
   "outputs": [
    {
     "data": {
      "text/html": [
       "<div>\n",
       "<style scoped>\n",
       "    .dataframe tbody tr th:only-of-type {\n",
       "        vertical-align: middle;\n",
       "    }\n",
       "\n",
       "    .dataframe tbody tr th {\n",
       "        vertical-align: top;\n",
       "    }\n",
       "\n",
       "    .dataframe thead th {\n",
       "        text-align: right;\n",
       "    }\n",
       "</style>\n",
       "<table border=\"1\" class=\"dataframe\">\n",
       "  <thead>\n",
       "    <tr style=\"text-align: right;\">\n",
       "      <th></th>\n",
       "      <th>Age</th>\n",
       "      <th>RoomService</th>\n",
       "      <th>FoodCourt</th>\n",
       "      <th>ShoppingMall</th>\n",
       "      <th>Spa</th>\n",
       "      <th>VRDeck</th>\n",
       "    </tr>\n",
       "  </thead>\n",
       "  <tbody>\n",
       "    <tr>\n",
       "      <th>count</th>\n",
       "      <td>6606.000000</td>\n",
       "      <td>6606.000000</td>\n",
       "      <td>6606.000000</td>\n",
       "      <td>6606.000000</td>\n",
       "      <td>6606.000000</td>\n",
       "      <td>6606.000000</td>\n",
       "    </tr>\n",
       "    <tr>\n",
       "      <th>mean</th>\n",
       "      <td>28.894036</td>\n",
       "      <td>222.991674</td>\n",
       "      <td>478.958523</td>\n",
       "      <td>178.356494</td>\n",
       "      <td>313.161520</td>\n",
       "      <td>303.780048</td>\n",
       "    </tr>\n",
       "    <tr>\n",
       "      <th>std</th>\n",
       "      <td>14.533429</td>\n",
       "      <td>644.987936</td>\n",
       "      <td>1678.592291</td>\n",
       "      <td>576.328407</td>\n",
       "      <td>1144.016291</td>\n",
       "      <td>1127.142166</td>\n",
       "    </tr>\n",
       "    <tr>\n",
       "      <th>min</th>\n",
       "      <td>0.000000</td>\n",
       "      <td>0.000000</td>\n",
       "      <td>0.000000</td>\n",
       "      <td>0.000000</td>\n",
       "      <td>0.000000</td>\n",
       "      <td>0.000000</td>\n",
       "    </tr>\n",
       "    <tr>\n",
       "      <th>25%</th>\n",
       "      <td>19.000000</td>\n",
       "      <td>0.000000</td>\n",
       "      <td>0.000000</td>\n",
       "      <td>0.000000</td>\n",
       "      <td>0.000000</td>\n",
       "      <td>0.000000</td>\n",
       "    </tr>\n",
       "    <tr>\n",
       "      <th>50%</th>\n",
       "      <td>27.000000</td>\n",
       "      <td>0.000000</td>\n",
       "      <td>0.000000</td>\n",
       "      <td>0.000000</td>\n",
       "      <td>0.000000</td>\n",
       "      <td>0.000000</td>\n",
       "    </tr>\n",
       "    <tr>\n",
       "      <th>75%</th>\n",
       "      <td>38.000000</td>\n",
       "      <td>49.000000</td>\n",
       "      <td>82.750000</td>\n",
       "      <td>30.000000</td>\n",
       "      <td>65.000000</td>\n",
       "      <td>52.000000</td>\n",
       "    </tr>\n",
       "    <tr>\n",
       "      <th>max</th>\n",
       "      <td>79.000000</td>\n",
       "      <td>9920.000000</td>\n",
       "      <td>29813.000000</td>\n",
       "      <td>12253.000000</td>\n",
       "      <td>22408.000000</td>\n",
       "      <td>20336.000000</td>\n",
       "    </tr>\n",
       "  </tbody>\n",
       "</table>\n",
       "</div>"
      ],
      "text/plain": [
       "               Age  RoomService     FoodCourt  ShoppingMall           Spa  \\\n",
       "count  6606.000000  6606.000000   6606.000000   6606.000000   6606.000000   \n",
       "mean     28.894036   222.991674    478.958523    178.356494    313.161520   \n",
       "std      14.533429   644.987936   1678.592291    576.328407   1144.016291   \n",
       "min       0.000000     0.000000      0.000000      0.000000      0.000000   \n",
       "25%      19.000000     0.000000      0.000000      0.000000      0.000000   \n",
       "50%      27.000000     0.000000      0.000000      0.000000      0.000000   \n",
       "75%      38.000000    49.000000     82.750000     30.000000     65.000000   \n",
       "max      79.000000  9920.000000  29813.000000  12253.000000  22408.000000   \n",
       "\n",
       "             VRDeck  \n",
       "count   6606.000000  \n",
       "mean     303.780048  \n",
       "std     1127.142166  \n",
       "min        0.000000  \n",
       "25%        0.000000  \n",
       "50%        0.000000  \n",
       "75%       52.000000  \n",
       "max    20336.000000  "
      ]
     },
     "execution_count": 273,
     "metadata": {},
     "output_type": "execute_result"
    }
   ],
   "source": [
    "df.describe()"
   ]
  },
  {
   "cell_type": "markdown",
   "id": "c309f434",
   "metadata": {},
   "source": [
    "Удалим записи с нулевым возрастом"
   ]
  },
  {
   "cell_type": "code",
   "execution_count": 274,
   "id": "a5dafe42",
   "metadata": {},
   "outputs": [],
   "source": [
    "df = df[df.Age != 0]"
   ]
  },
  {
   "cell_type": "code",
   "execution_count": 275,
   "id": "4d1bce05",
   "metadata": {
    "scrolled": true
   },
   "outputs": [
    {
     "data": {
      "text/plain": [
       "<AxesSubplot: ylabel='Frequency'>"
      ]
     },
     "execution_count": 275,
     "metadata": {},
     "output_type": "execute_result"
    },
    {
     "data": {
      "image/png": "[encoded data removed]",
      "text/plain": [
       "<Figure size 640x480 with 1 Axes>"
      ]
     },
     "metadata": {},
     "output_type": "display_data"
    }
   ],
   "source": [
    "df.RoomService.plot(kind='hist', bins=50)"
   ]
  },
  {
   "cell_type": "code",
   "execution_count": 276,
   "id": "a506437b",
   "metadata": {},
   "outputs": [
    {
     "data": {
      "text/plain": [
       "<AxesSubplot: ylabel='RoomService'>"
      ]
     },
     "execution_count": 276,
     "metadata": {},
     "output_type": "execute_result"
    },
    {
     "data": {
      "image/png": "[encoded data removed]",
      "text/plain": [
       "<Figure size 640x480 with 1 Axes>"
      ]
     },
     "metadata": {},
     "output_type": "display_data"
    }
   ],
   "source": [
    "sns.boxplot(data = df, y='RoomService')"
   ]
  },
  {
   "cell_type": "code",
   "execution_count": 277,
   "id": "2c2635fe",
   "metadata": {
    "scrolled": false
   },
   "outputs": [
    {
     "data": {
      "text/plain": [
       "False    32\n",
       "Name: Transported, dtype: int64"
      ]
     },
     "execution_count": 277,
     "metadata": {},
     "output_type": "execute_result"
    }
   ],
   "source": [
    "df[df.RoomService > 4000]['Transported'].value_counts()"
   ]
  },
  {
   "cell_type": "markdown",
   "id": "d76a7228",
   "metadata": {},
   "source": [
    "Удалим записи с RoomService > 4000"
   ]
  },
  {
   "cell_type": "code",
   "execution_count": 278,
   "id": "851c910d",
   "metadata": {},
   "outputs": [],
   "source": [
    "# df = df[df.RoomService <= 4000]"
   ]
  },
  {
   "cell_type": "code",
   "execution_count": 279,
   "id": "23b143b3",
   "metadata": {},
   "outputs": [
    {
     "data": {
      "text/html": [
       "<div>\n",
       "<style scoped>\n",
       "    .dataframe tbody tr th:only-of-type {\n",
       "        vertical-align: middle;\n",
       "    }\n",
       "\n",
       "    .dataframe tbody tr th {\n",
       "        vertical-align: top;\n",
       "    }\n",
       "\n",
       "    .dataframe thead th {\n",
       "        text-align: right;\n",
       "    }\n",
       "</style>\n",
       "<table border=\"1\" class=\"dataframe\">\n",
       "  <thead>\n",
       "    <tr style=\"text-align: right;\">\n",
       "      <th></th>\n",
       "      <th>Age</th>\n",
       "      <th>RoomService</th>\n",
       "      <th>FoodCourt</th>\n",
       "      <th>ShoppingMall</th>\n",
       "      <th>Spa</th>\n",
       "      <th>VRDeck</th>\n",
       "    </tr>\n",
       "  </thead>\n",
       "  <tbody>\n",
       "    <tr>\n",
       "      <th>count</th>\n",
       "      <td>6466.000000</td>\n",
       "      <td>6466.000000</td>\n",
       "      <td>6466.000000</td>\n",
       "      <td>6466.000000</td>\n",
       "      <td>6466.000000</td>\n",
       "      <td>6466.000000</td>\n",
       "    </tr>\n",
       "    <tr>\n",
       "      <th>mean</th>\n",
       "      <td>29.519641</td>\n",
       "      <td>227.819827</td>\n",
       "      <td>489.328797</td>\n",
       "      <td>182.218218</td>\n",
       "      <td>319.942004</td>\n",
       "      <td>310.357408</td>\n",
       "    </tr>\n",
       "    <tr>\n",
       "      <th>std</th>\n",
       "      <td>14.047208</td>\n",
       "      <td>651.089879</td>\n",
       "      <td>1695.173647</td>\n",
       "      <td>581.930815</td>\n",
       "      <td>1155.398264</td>\n",
       "      <td>1138.384593</td>\n",
       "    </tr>\n",
       "    <tr>\n",
       "      <th>min</th>\n",
       "      <td>1.000000</td>\n",
       "      <td>0.000000</td>\n",
       "      <td>0.000000</td>\n",
       "      <td>0.000000</td>\n",
       "      <td>0.000000</td>\n",
       "      <td>0.000000</td>\n",
       "    </tr>\n",
       "    <tr>\n",
       "      <th>25%</th>\n",
       "      <td>20.000000</td>\n",
       "      <td>0.000000</td>\n",
       "      <td>0.000000</td>\n",
       "      <td>0.000000</td>\n",
       "      <td>0.000000</td>\n",
       "      <td>0.000000</td>\n",
       "    </tr>\n",
       "    <tr>\n",
       "      <th>50%</th>\n",
       "      <td>27.000000</td>\n",
       "      <td>0.000000</td>\n",
       "      <td>0.000000</td>\n",
       "      <td>0.000000</td>\n",
       "      <td>0.000000</td>\n",
       "      <td>0.000000</td>\n",
       "    </tr>\n",
       "    <tr>\n",
       "      <th>75%</th>\n",
       "      <td>38.000000</td>\n",
       "      <td>59.000000</td>\n",
       "      <td>93.750000</td>\n",
       "      <td>33.000000</td>\n",
       "      <td>76.000000</td>\n",
       "      <td>58.000000</td>\n",
       "    </tr>\n",
       "    <tr>\n",
       "      <th>max</th>\n",
       "      <td>79.000000</td>\n",
       "      <td>9920.000000</td>\n",
       "      <td>29813.000000</td>\n",
       "      <td>12253.000000</td>\n",
       "      <td>22408.000000</td>\n",
       "      <td>20336.000000</td>\n",
       "    </tr>\n",
       "  </tbody>\n",
       "</table>\n",
       "</div>"
      ],
      "text/plain": [
       "               Age  RoomService     FoodCourt  ShoppingMall           Spa  \\\n",
       "count  6466.000000  6466.000000   6466.000000   6466.000000   6466.000000   \n",
       "mean     29.519641   227.819827    489.328797    182.218218    319.942004   \n",
       "std      14.047208   651.089879   1695.173647    581.930815   1155.398264   \n",
       "min       1.000000     0.000000      0.000000      0.000000      0.000000   \n",
       "25%      20.000000     0.000000      0.000000      0.000000      0.000000   \n",
       "50%      27.000000     0.000000      0.000000      0.000000      0.000000   \n",
       "75%      38.000000    59.000000     93.750000     33.000000     76.000000   \n",
       "max      79.000000  9920.000000  29813.000000  12253.000000  22408.000000   \n",
       "\n",
       "             VRDeck  \n",
       "count   6466.000000  \n",
       "mean     310.357408  \n",
       "std     1138.384593  \n",
       "min        0.000000  \n",
       "25%        0.000000  \n",
       "50%        0.000000  \n",
       "75%       58.000000  \n",
       "max    20336.000000  "
      ]
     },
     "execution_count": 279,
     "metadata": {},
     "output_type": "execute_result"
    }
   ],
   "source": [
    "df.describe()"
   ]
  },
  {
   "cell_type": "code",
   "execution_count": 280,
   "id": "133b4054",
   "metadata": {
    "scrolled": true
   },
   "outputs": [
    {
     "data": {
      "text/plain": [
       "<AxesSubplot: ylabel='Frequency'>"
      ]
     },
     "execution_count": 280,
     "metadata": {},
     "output_type": "execute_result"
    },
    {
     "data": {
      "image/png": "[encoded data removed]",
      "text/plain": [
       "<Figure size 640x480 with 1 Axes>"
      ]
     },
     "metadata": {},
     "output_type": "display_data"
    }
   ],
   "source": [
    "df.FoodCourt.plot(kind='hist', bins=50)"
   ]
  },
  {
   "cell_type": "code",
   "execution_count": 281,
   "id": "bda4a7a3",
   "metadata": {},
   "outputs": [
    {
     "data": {
      "text/plain": [
       "<AxesSubplot: ylabel='FoodCourt'>"
      ]
     },
     "execution_count": 281,
     "metadata": {},
     "output_type": "execute_result"
    },
    {
     "data": {
      "image/png": "[encoded data removed]",
      "text/plain": [
       "<Figure size 640x480 with 1 Axes>"
      ]
     },
     "metadata": {},
     "output_type": "display_data"
    }
   ],
   "source": [
    "sns.boxplot(data = df, y='FoodCourt')"
   ]
  },
  {
   "cell_type": "code",
   "execution_count": 282,
   "id": "4787b096",
   "metadata": {},
   "outputs": [
    {
     "data": {
      "text/plain": [
       "True    9\n",
       "Name: Transported, dtype: int64"
      ]
     },
     "execution_count": 282,
     "metadata": {},
     "output_type": "execute_result"
    }
   ],
   "source": [
    "df[df.FoodCourt > 17000]['Transported'].value_counts()"
   ]
  },
  {
   "cell_type": "code",
   "execution_count": 283,
   "id": "47c92cb7",
   "metadata": {},
   "outputs": [],
   "source": [
    "# df = df[df.FoodCourt <= 17000]"
   ]
  },
  {
   "cell_type": "code",
   "execution_count": 284,
   "id": "933d4df7",
   "metadata": {
    "scrolled": true
   },
   "outputs": [
    {
     "data": {
      "text/plain": [
       "<AxesSubplot: ylabel='Frequency'>"
      ]
     },
     "execution_count": 284,
     "metadata": {},
     "output_type": "execute_result"
    },
    {
     "data": {
      "image/png": "[encoded data removed]",
      "text/plain": [
       "<Figure size 640x480 with 1 Axes>"
      ]
     },
     "metadata": {},
     "output_type": "display_data"
    }
   ],
   "source": [
    "df.ShoppingMall.plot(kind='hist', bins=50)"
   ]
  },
  {
   "cell_type": "code",
   "execution_count": 285,
   "id": "040ac7b6",
   "metadata": {},
   "outputs": [
    {
     "data": {
      "text/plain": [
       "<AxesSubplot: ylabel='ShoppingMall'>"
      ]
     },
     "execution_count": 285,
     "metadata": {},
     "output_type": "execute_result"
    },
    {
     "data": {
      "image/png": "[encoded data removed]",
      "text/plain": [
       "<Figure size 640x480 with 1 Axes>"
      ]
     },
     "metadata": {},
     "output_type": "display_data"
    }
   ],
   "source": [
    "sns.boxplot(data = df, y='ShoppingMall')"
   ]
  },
  {
   "cell_type": "code",
   "execution_count": 286,
   "id": "1bfa33aa",
   "metadata": {},
   "outputs": [
    {
     "data": {
      "text/plain": [
       "True     20\n",
       "False     7\n",
       "Name: Transported, dtype: int64"
      ]
     },
     "execution_count": 286,
     "metadata": {},
     "output_type": "execute_result"
    }
   ],
   "source": [
    "df[df.ShoppingMall > 4000]['Transported'].value_counts()"
   ]
  },
  {
   "cell_type": "code",
   "execution_count": 287,
   "id": "d6a7c136",
   "metadata": {},
   "outputs": [],
   "source": [
    "# df = df[df.ShoppingMall <= 4000]"
   ]
  },
  {
   "cell_type": "code",
   "execution_count": 288,
   "id": "21ab659e",
   "metadata": {},
   "outputs": [
    {
     "data": {
      "text/plain": [
       "<AxesSubplot: ylabel='Frequency'>"
      ]
     },
     "execution_count": 288,
     "metadata": {},
     "output_type": "execute_result"
    },
    {
     "data": {
      "image/png": "[encoded data removed]",
      "text/plain": [
       "<Figure size 640x480 with 1 Axes>"
      ]
     },
     "metadata": {},
     "output_type": "display_data"
    }
   ],
   "source": [
    "df.Spa.plot(kind='hist', bins=50)"
   ]
  },
  {
   "cell_type": "code",
   "execution_count": 289,
   "id": "0f45dfd9",
   "metadata": {
    "scrolled": true
   },
   "outputs": [
    {
     "data": {
      "text/plain": [
       "<AxesSubplot: ylabel='Spa'>"
      ]
     },
     "execution_count": 289,
     "metadata": {},
     "output_type": "execute_result"
    },
    {
     "data": {
      "image/png": "[encoded data removed]",
      "text/plain": [
       "<Figure size 640x480 with 1 Axes>"
      ]
     },
     "metadata": {},
     "output_type": "display_data"
    }
   ],
   "source": [
    "sns.boxplot(data = df, y='Spa')"
   ]
  },
  {
   "cell_type": "code",
   "execution_count": 290,
   "id": "e952ba11",
   "metadata": {},
   "outputs": [
    {
     "data": {
      "text/plain": [
       "False    18\n",
       "Name: Transported, dtype: int64"
      ]
     },
     "execution_count": 290,
     "metadata": {},
     "output_type": "execute_result"
    }
   ],
   "source": [
    "df[df.Spa > 10000]['Transported'].value_counts()"
   ]
  },
  {
   "cell_type": "code",
   "execution_count": 291,
   "id": "1f73b764",
   "metadata": {},
   "outputs": [],
   "source": [
    "# df = df[df.Spa <= 10000]"
   ]
  },
  {
   "cell_type": "code",
   "execution_count": 292,
   "id": "ce780d93",
   "metadata": {},
   "outputs": [
    {
     "data": {
      "text/plain": [
       "<AxesSubplot: ylabel='Frequency'>"
      ]
     },
     "execution_count": 292,
     "metadata": {},
     "output_type": "execute_result"
    },
    {
     "data": {
      "image/png": "[encoded data removed]",
      "text/plain": [
       "<Figure size 640x480 with 1 Axes>"
      ]
     },
     "metadata": {},
     "output_type": "display_data"
    }
   ],
   "source": [
    "df.VRDeck.plot(kind='hist', bins=50)"
   ]
  },
  {
   "cell_type": "code",
   "execution_count": 293,
   "id": "fd54a3a5",
   "metadata": {},
   "outputs": [
    {
     "data": {
      "text/plain": [
       "<AxesSubplot: ylabel='VRDeck'>"
      ]
     },
     "execution_count": 293,
     "metadata": {},
     "output_type": "execute_result"
    },
    {
     "data": {
      "image/png": "[encoded data removed]",
      "text/plain": [
       "<Figure size 640x480 with 1 Axes>"
      ]
     },
     "metadata": {},
     "output_type": "display_data"
    }
   ],
   "source": [
    "sns.boxplot(data = df, y='VRDeck')"
   ]
  },
  {
   "cell_type": "code",
   "execution_count": 294,
   "id": "f69c007a",
   "metadata": {},
   "outputs": [
    {
     "data": {
      "text/plain": [
       "False    59\n",
       "Name: Transported, dtype: int64"
      ]
     },
     "execution_count": 294,
     "metadata": {},
     "output_type": "execute_result"
    }
   ],
   "source": [
    "df[df.VRDeck > 6000]['Transported'].value_counts()"
   ]
  },
  {
   "cell_type": "code",
   "execution_count": 295,
   "id": "b057d9be",
   "metadata": {},
   "outputs": [],
   "source": [
    "# df = df[df.VRDeck <= 6000]"
   ]
  },
  {
   "cell_type": "code",
   "execution_count": 296,
   "id": "748037b9",
   "metadata": {},
   "outputs": [],
   "source": [
    "object_columns = []\n",
    "digital_columns = []\n",
    "for col in df.columns:\n",
    "    if df.dtypes[col] == 'object':\n",
    "        object_columns.append(col)\n",
    "    else:\n",
    "        if col !='Transported':\n",
    "            digital_columns.append(col)"
   ]
  },
  {
   "cell_type": "code",
   "execution_count": 299,
   "id": "1fe88a20",
   "metadata": {},
   "outputs": [
    {
     "name": "stdout",
     "output_type": "stream",
     "text": [
      "VIP: 97.49% имеют одно и тоже значение\n",
      "--------------------------------------------------\n"
     ]
    }
   ],
   "source": [
    "trash = 0.95\n",
    "for col in df.columns:\n",
    "    repeat = df[col].value_counts(normalize=True).max()\n",
    "    diversity = df[col].nunique() / df[col].count()\n",
    "    if repeat > trash:\n",
    "        print(f'{col}: {repeat * 100:.2f}% имеют одно и тоже значение')\n",
    "        print('-' * 50)\n",
    "    if diversity > trash:\n",
    "        print(f'{col}: {diversity * 100:.2f}% имеют уникальные значения')\n",
    "        print('-' * 50)"
   ]
  },
  {
   "cell_type": "markdown",
   "id": "546c1906",
   "metadata": {},
   "source": [
    "Удали признак VIP"
   ]
  },
  {
   "cell_type": "code",
   "execution_count": 300,
   "id": "76a970d0",
   "metadata": {},
   "outputs": [],
   "source": [
    "df.drop('VIP', axis=1, inplace=True)"
   ]
  },
  {
   "cell_type": "code",
   "execution_count": 297,
   "id": "172f2707",
   "metadata": {},
   "outputs": [
    {
     "name": "stdout",
     "output_type": "stream",
     "text": [
      "PassengerId: 6466 уникальных значений\n",
      "HomePlanet: 3 уникальных значений\n",
      "CryoSleep: 2 уникальных значений\n",
      "Cabin: 5275 уникальных значений\n",
      "Destination: 3 уникальных значений\n",
      "VIP: 2 уникальных значений\n",
      "Name: 6451 уникальных значений\n"
     ]
    }
   ],
   "source": [
    "for col in object_columns:\n",
    "    print(f'{col}: {df[col].nunique()} уникальных значений')"
   ]
  },
  {
   "cell_type": "markdown",
   "id": "b7be6e5e",
   "metadata": {},
   "source": [
    "Удалим ненужные колонки"
   ]
  },
  {
   "cell_type": "code",
   "execution_count": 302,
   "id": "02905f08",
   "metadata": {},
   "outputs": [],
   "source": [
    "df.drop(['PassengerId', 'Cabin', 'Name'], axis=1, inplace=True)\n",
    "\n",
    "df = pd.get_dummies(df)\n",
    "\n",
    "df.reset_index(drop=True, inplace=True)"
   ]
  },
  {
   "cell_type": "code",
   "execution_count": 303,
   "id": "22744132",
   "metadata": {},
   "outputs": [
    {
     "data": {
      "text/plain": [
       "(6466, 15)"
      ]
     },
     "execution_count": 303,
     "metadata": {},
     "output_type": "execute_result"
    }
   ],
   "source": [
    "df.shape"
   ]
  },
  {
   "cell_type": "markdown",
   "id": "02be3263",
   "metadata": {},
   "source": [
    "Подберем глубину дерева"
   ]
  },
  {
   "cell_type": "code",
   "execution_count": 304,
   "id": "728d7193",
   "metadata": {
    "scrolled": true
   },
   "outputs": [
    {
     "name": "stdout",
     "output_type": "stream",
     "text": [
      " Max Depth  Average Accuracy\n",
      "         1          0.725801\n",
      "         2          0.740800\n",
      "         3          0.750084\n",
      "         4          0.770501\n",
      "         5          0.778695\n",
      "         6          0.782252\n",
      "         7          0.786120\n",
      "         8          0.786270\n",
      "         9          0.783022\n",
      "        10          0.776529\n",
      "        11          0.774053\n",
      "        12          0.768948\n",
      "        13          0.764459\n",
      "        14          0.761368\n",
      "        15          0.756418\n"
     ]
    }
   ],
   "source": [
    "## Зададим 10 бачей для функции кросс-валидации\n",
    "cv = KFold(n_splits=10)     \n",
    "\n",
    "## Итоговый список с точностью классификации для каждой итерации\n",
    "accuracies = list()\n",
    "## Задание диапазона глубин дерева\n",
    "max_attributes = len(list(df))\n",
    "depth_range = range(1, max_attributes + 1)\n",
    "\n",
    "## Перебор всех значений max_depth /  Обучение модели для каждого фолда / Расчет точности классификации / Расчет среднего значения точности по всем фолдам\n",
    "for depth in depth_range:\n",
    "    fold_accuracy = []\n",
    "    tree_model = DecisionTreeClassifier(max_depth = depth)\n",
    "    for train_fold, valid_fold in cv.split(df):\n",
    "        f_train = df.loc[train_fold] \n",
    "        f_valid = df.loc[valid_fold] \n",
    "\n",
    "        model = tree_model.fit(X = f_train.drop(['Transported'], axis=1), \n",
    "                               y = f_train['Transported']) \n",
    "        valid_acc = model.score(X = f_valid.drop(['Transported'], axis=1), \n",
    "                                y = f_valid['Transported'])\n",
    "        fold_accuracy.append(valid_acc)\n",
    "\n",
    "    avg = sum(fold_accuracy)/len(fold_accuracy)\n",
    "    accuracies.append(avg)\n",
    "    \n",
    "result_df = pd.DataFrame({\"Max Depth\": depth_range, \"Average Accuracy\": accuracies})\n",
    "result_df = result_df[[\"Max Depth\", \"Average Accuracy\"]]\n",
    "print(result_df.to_string(index=False))"
   ]
  },
  {
   "cell_type": "markdown",
   "id": "f4a4aace",
   "metadata": {},
   "source": [
    "Лучший результат при глубине дерева равной 8"
   ]
  },
  {
   "cell_type": "markdown",
   "id": "fda42468",
   "metadata": {},
   "source": [
    "Обучим модель"
   ]
  },
  {
   "cell_type": "code",
   "execution_count": 305,
   "id": "7aab3bcb",
   "metadata": {},
   "outputs": [],
   "source": [
    "model = DecisionTreeClassifier(max_depth = 8).fit(X = df.drop(['Transported'], axis=1), y = df['Transported'])"
   ]
  },
  {
   "cell_type": "code",
   "execution_count": 306,
   "id": "28d3eb09",
   "metadata": {},
   "outputs": [
    {
     "data": {
      "text/plain": [
       "0.8238478193628209"
      ]
     },
     "execution_count": 306,
     "metadata": {},
     "output_type": "execute_result"
    }
   ],
   "source": [
    "model.score(X = df.drop(['Transported'], axis=1), y = df['Transported'])"
   ]
  },
  {
   "cell_type": "code",
   "execution_count": null,
   "id": "bb009b9d",
   "metadata": {},
   "outputs": [],
   "source": []
  }
 ],
 "metadata": {
  "kernelspec": {
   "display_name": "Python 3 (ipykernel)",
   "language": "python",
   "name": "python3"
  },
  "language_info": {
   "codemirror_mode": {
    "name": "ipython",
    "version": 3
   },
   "file_extension": ".py",
   "mimetype": "text/x-python",
   "name": "python",
   "nbconvert_exporter": "python",
   "pygments_lexer": "ipython3",
   "version": "3.10.6"
  }
 },
 "nbformat": 4,
 "nbformat_minor": 5
}
